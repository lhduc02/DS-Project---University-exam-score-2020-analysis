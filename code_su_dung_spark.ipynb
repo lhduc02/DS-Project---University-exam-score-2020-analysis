{
 "cells": [
  {
   "cell_type": "code",
   "execution_count": 1,
   "id": "96321b8e",
   "metadata": {},
   "outputs": [],
   "source": [
    "from pyspark.sql import SparkSession\n",
    "from pyspark.sql.functions import udf, split\n",
    "from pyspark.sql.types import StringType, IntegerType, FloatType\n",
    "import html\n",
    "\n",
    "# Khởi tạo SparkSession\n",
    "spark = SparkSession.builder \\\n",
    "    .appName(\"Process Data\") \\\n",
    "    .getOrCreate()"
   ]
  },
  {
   "cell_type": "code",
   "execution_count": 35,
   "id": "f3614822",
   "metadata": {},
   "outputs": [],
   "source": [
    "# Định nghĩa hàm để xử lý các ký tự Unicode\n",
    "def replace_unicode(text):\n",
    "    chars = []\n",
    "    codes = []\n",
    "    with open(\"D:\\\\.Repo\\\\Incomplete Project\\\\Thesis Project --- Spark\\\\unicode.txt\", mode=\"r\", encoding=\"utf8\") as file:\n",
    "        unicode_table = file.read().split(\"\\n\")\n",
    "        for i in unicode_table:\n",
    "            i = i.split()\n",
    "            chars.append(i[0])\n",
    "            codes.append(i[1])\n",
    "\n",
    "    for i in range(len(chars)):\n",
    "        text = text.replace(codes[i], chars[i])\n",
    "\n",
    "    return text[:-2]\n",
    "\n",
    "\n",
    "# Định nghĩa hàm để chuyển đổi HTML entities thành ký tự Unicode\n",
    "def unescape_html(text):\n",
    "    return html.unescape(text)\n",
    "\n",
    "\n",
    "# Định nghĩa hàm để chuyển đổi định dạng ngày sinh\n",
    "def process_dob(dob):\n",
    "    return dob[:-2].split(\"/\")\n",
    "\n",
    "\n",
    "# Định nghĩa hàm để xử lý điểm thi và chuyển đổi về lower case\n",
    "def process_score(score):\n",
    "    score = score[:-2]\n",
    "    score = replace_unicode(score)\n",
    "    for i in range(len(score)):\n",
    "        if score[i:i+2] == \"&#\":\n",
    "            score = score[:i] + html.unescape(score[i:i+5]) + score[i+6:]\n",
    "    score = score.replace(\":\", \"\")\n",
    "    score = score.replace(\"khxh \", \"khxh   \")\n",
    "    score = score.replace(\"khtn \", \"khtn   \")\n",
    "    score_list = score.split(\"   \")\n",
    "    data = []\n",
    "    for subject in [\"Toán\", \"Ngữ văn\", \"KHXH\", \"KHTN\", \"Lịch sử\", \"Địa lí\", \"GDCD\", \"sinh học\", \"vật lí\", \"hoa\", \"N1\"]:\n",
    "        if subject in score_list:\n",
    "            data.append(str(float(score_list[score_list.index(subject) + 1])))  # Chuyen 7.00 -> 7.0\n",
    "        else:\n",
    "            data.append(\"NULL\")\n",
    "    return \" \".join(data)\n",
    "\n",
    "\n",
    "# Định nghĩa hàm để chuyển đổi các trường dữ liệu về định dạng số\n",
    "def to_float(value):\n",
    "    if value.strip() == \"\":\n",
    "        return None\n",
    "    return float(value)\n",
    "\n",
    "# Normal\n",
    "def normal(txt):\n",
    "    return txt"
   ]
  },
  {
   "cell_type": "code",
   "execution_count": 36,
   "id": "13272157",
   "metadata": {},
   "outputs": [],
   "source": [
    "# Đọc dữ liệu từ file text và tạo DataFrame từ dữ liệu đó\n",
    "data_rdd = spark.sparkContext.textFile(\"D:\\\\.Repo\\\\Incomplete Project\\\\Thesis Project --- Spark\\\\raw_data.txt\")\n",
    "data_df = data_rdd.filter(lambda line: len(line.strip()) > 0) \\\n",
    "    .map(lambda line: line.strip()) \\\n",
    "    .filter(lambda line: line.startswith(\"b'<!DOCTYPE html>\")) \\\n",
    "    .map(lambda line: line.split(\"\\\\n\")) \\\n",
    "    .filter(lambda arr: len(arr) == 90) \\\n",
    "    .map(lambda arr: (arr[61].strip(), arr[64].strip(), arr[67].strip())) \\\n",
    "    .toDF([\"name\", \"dob\", \"score\"])"
   ]
  },
  {
   "cell_type": "code",
   "execution_count": 37,
   "id": "3916ee48",
   "metadata": {},
   "outputs": [],
   "source": [
    "# Áp dụng các hàm xử lý dữ liệu vào DataFrame\n",
    "replace_unicode_udf = udf(replace_unicode, StringType())\n",
    "unescape_html_udf = udf(unescape_html, StringType())\n",
    "process_dob_udf = udf(process_dob, StringType())\n",
    "process_score_udf = udf(process_score, StringType())\n",
    "to_float_udf = udf(to_float, FloatType())\n",
    "normal_udf = udf(normal, StringType())"
   ]
  },
  {
   "cell_type": "code",
   "execution_count": 51,
   "id": "b9521fea",
   "metadata": {},
   "outputs": [],
   "source": [
    "# \"Toán\", \"Ngữ văn\", \"KHXH\", \"KHTN\", \"Lịch sử\", \"Địa lí\", \"GDCD\", \"sinh học\", \"vật lí\", \"hoa\", \"N1\"\n",
    "\n",
    "processed_df = data_df.withColumn(\"name\", replace_unicode_udf(\"name\")) \\\n",
    "    .withColumn(\"name\", unescape_html_udf(\"name\")) \\\n",
    "    .withColumn(\"dob\", process_dob_udf(\"dob\")) \\\n",
    "    .withColumn(\"score\", process_score_udf(\"score\")) \\\n",
    "    .withColumn(\"test\", split(normal_udf(\"score\"), \" \")) \\\n",
    "    .withColumn(\"toan\", split(normal_udf(\"score\"), \" \")[0]) \\\n",
    "    .withColumn(\"ngu_van\", split(normal_udf(\"score\"), \" \")[1]) \\\n",
    "    .withColumn(\"khxh\", split(normal_udf(\"score\"), \" \")[2]) \\\n",
    "    .withColumn(\"khtn\", split(normal_udf(\"score\"), \" \")[3]) \\\n",
    "    .withColumn(\"lich_su\", split(normal_udf(\"score\"), \" \")[4]) \\\n",
    "    .withColumn(\"dia_ly\", split(normal_udf(\"score\"), \" \")[5]) \\\n",
    "    .withColumn(\"gdcd\", split(normal_udf(\"score\"), \" \")[6]) \\\n",
    "    .withColumn(\"sinh_hoc\", split(normal_udf(\"score\"), \" \")[7]) \\\n",
    "    .withColumn(\"vat_li\", split(normal_udf(\"score\"), \" \")[8]) \\\n",
    "    .withColumn(\"hoc_hoc\", split(normal_udf(\"score\"), \" \")[9]) \\\n",
    "    .withColumn(\"N1\", split(normal_udf(\"score\"), \" \")[10])\n",
    "\n",
    "\n"
   ]
  },
  {
   "cell_type": "code",
   "execution_count": 52,
   "id": "121a991e",
   "metadata": {},
   "outputs": [
    {
     "data": {
      "text/plain": [
       "Row(name='PHẠM HOÀNG HƯƠNG ÁI', dob='04/11/2002\\\\r', score='To&#225;n:   6.60   Ng\\\\xe1\\\\xbb\\\\xaf v\\\\xc4\\\\x83n:   6.25   L\\\\xe1\\\\xbb\\\\x8bch s\\\\xe1\\\\xbb\\\\xad:   5.75   \\\\xc4\\\\x90\\\\xe1\\\\xbb\\\\x8ba l&#237;:   7.00   GDCD:   7.25   KHXH: 6.67   Ti\\\\xe1\\\\xba\\\\xbfng Anh:   5.20   \\\\r', toan='To&#225;n:', ngu_van='', khxh='', khtn='6.60', lich_su='', dia_ly='', gdcd='Ng\\\\xe1\\\\xbb\\\\xaf', sinh_hoc='v\\\\xc4\\\\x83n:', vat_li='', hoc_hoc='', N1='6.25')"
      ]
     },
     "execution_count": 52,
     "metadata": {},
     "output_type": "execute_result"
    }
   ],
   "source": [
    "processed_df.first()"
   ]
  },
  {
   "cell_type": "code",
   "execution_count": 46,
   "id": "5fbc06e4",
   "metadata": {},
   "outputs": [
    {
     "name": "stdout",
     "output_type": "stream",
     "text": [
      "+--------------------+------------+--------------------+----------+-------+----+----+-------+------+--------------+-----------+------+-------+----+\n",
      "|                name|         dob|               score|      toan|ngu_van|khxh|khtn|lich_su|dia_ly|          gdcd|   sinh_hoc|vat_li|hoc_hoc|  N1|\n",
      "+--------------------+------------+--------------------+----------+-------+----+----+-------+------+--------------+-----------+------+-------+----+\n",
      "| PHẠM HOÀNG HƯƠNG ÁI|04/11/2002\\r|To&#225;n:   6.60...|To&#225;n:|       |    |6.60|       |      |Ng\\xe1\\xbb\\xaf|v\\xc4\\x83n:|      |       |6.25|\n",
      "|  ĐẶNG HUỲNH VĨNH AN|13/12/2002\\r|To&#225;n:   8.20...|To&#225;n:|       |    |8.20|       |      |Ng\\xe1\\xbb\\xaf|v\\xc4\\x83n:|      |       |7.75|\n",
      "|LÂM NGUYỄN MỘNG T...|06/04/2001\\r|To&#225;n:   6.80...|To&#225;n:|       |    |6.80|       |      |Ng\\xe1\\xbb\\xaf|v\\xc4\\x83n:|      |       |6.75|\n",
      "|    LÊ TIÊU HOÀNG AN|18/11/2002\\r|To&#225;n:   7.80...|To&#225;n:|       |    |7.80|       |      |Ng\\xe1\\xbb\\xaf|v\\xc4\\x83n:|      |       |6.25|\n",
      "|         LƯ THUẬN AN|14/01/2002\\r|To&#225;n:   6.40...|To&#225;n:|       |    |6.40|       |      |Ng\\xe1\\xbb\\xaf|v\\xc4\\x83n:|      |       |6.50|\n",
      "|         MAI BÌNH AN|14/06/2002\\r|To&#225;n:   6.80...|To&#225;n:|       |    |6.80|       |      |Ng\\xe1\\xbb\\xaf|v\\xc4\\x83n:|      |       |7.50|\n",
      "|         MAI XUÂN AN|16/03/2002\\r|To&#225;n:   8.40...|To&#225;n:|       |    |8.40|       |      |Ng\\xe1\\xbb\\xaf|v\\xc4\\x83n:|      |       |8.25|\n",
      "|NGUYỄN HUỲNH KHÁN...|28/07/2002\\r|To&#225;n:   6.80...|To&#225;n:|       |    |6.80|       |      |Ng\\xe1\\xbb\\xaf|v\\xc4\\x83n:|      |       |7.00|\n",
      "|  NGUYỄN TRẦN HÒA AN|14/11/2002\\r|To&#225;n:   7.20...|To&#225;n:|       |    |7.20|       |      |Ng\\xe1\\xbb\\xaf|v\\xc4\\x83n:|      |       |8.00|\n",
      "|NGUYỄN VƯƠNG THÙY AN|14/08/2002\\r|To&#225;n:   8.40...|To&#225;n:|       |    |8.40|       |      |Ng\\xe1\\xbb\\xaf|v\\xc4\\x83n:|      |       |7.75|\n",
      "|    PHẠM THỊ HỒNG AN|11/03/2002\\r|To&#225;n:   6.40...|To&#225;n:|       |    |6.40|       |      |Ng\\xe1\\xbb\\xaf|v\\xc4\\x83n:|      |       |7.75|\n",
      "|   TÝ THIỀU THUẬN AN|28/09/2002\\r|To&#225;n:   8.00...|To&#225;n:|       |    |8.00|       |      |Ng\\xe1\\xbb\\xaf|v\\xc4\\x83n:|      |       |5.25|\n",
      "|         VÕ THIÊN AN|27/03/2002\\r|To&#225;n:   8.40...|To&#225;n:|       |    |8.40|       |      |Ng\\xe1\\xbb\\xaf|v\\xc4\\x83n:|      |       |5.75|\n",
      "|         VŨ THANH AN|19/11/2002\\r|To&#225;n:   8.40...|To&#225;n:|       |    |8.40|       |      |Ng\\xe1\\xbb\\xaf|v\\xc4\\x83n:|      |       |7.50|\n",
      "| BÙI NGUYỄN MINH ANH|18/03/2002\\r|To&#225;n:   8.20...|To&#225;n:|       |    |8.20|       |      |Ng\\xe1\\xbb\\xaf|v\\xc4\\x83n:|      |       |6.75|\n",
      "|  BÙI THỤY QUỲNH ANH|24/07/2002\\r|To&#225;n:   8.60...|To&#225;n:|       |    |8.60|       |      |Ng\\xe1\\xbb\\xaf|v\\xc4\\x83n:|      |       |6.75|\n",
      "|    BÙI TRẦN LAN ANH|11/03/2002\\r|To&#225;n:   8.60...|To&#225;n:|       |    |8.60|       |      |Ng\\xe1\\xbb\\xaf|v\\xc4\\x83n:|      |       |6.75|\n",
      "| CAO NGỌC PHƯƠNG ANH|06/06/2002\\r|To&#225;n:   8.00...|To&#225;n:|       |    |8.00|       |      |Ng\\xe1\\xbb\\xaf|v\\xc4\\x83n:|      |       |6.50|\n",
      "|       CHÂU XUÂN ANH|30/09/2002\\r|To&#225;n:   8.20...|To&#225;n:|       |    |8.20|       |      |Ng\\xe1\\xbb\\xaf|v\\xc4\\x83n:|      |       |4.50|\n",
      "|   CHUNG VŨ THÚY ANH|08/03/2002\\r|To&#225;n:   8.40...|To&#225;n:|       |    |8.40|       |      |Ng\\xe1\\xbb\\xaf|v\\xc4\\x83n:|      |       |6.25|\n",
      "+--------------------+------------+--------------------+----------+-------+----+----+-------+------+--------------+-----------+------+-------+----+\n",
      "only showing top 20 rows\n",
      "\n"
     ]
    }
   ],
   "source": [
    "processed_df.show()"
   ]
  },
  {
   "cell_type": "code",
   "execution_count": null,
   "id": "da8ea388",
   "metadata": {},
   "outputs": [],
   "source": []
  }
 ],
 "metadata": {
  "kernelspec": {
   "display_name": "Python 3 (ipykernel)",
   "language": "python",
   "name": "python3"
  },
  "language_info": {
   "codemirror_mode": {
    "name": "ipython",
    "version": 3
   },
   "file_extension": ".py",
   "mimetype": "text/x-python",
   "name": "python",
   "nbconvert_exporter": "python",
   "pygments_lexer": "ipython3",
   "version": "3.10.6"
  }
 },
 "nbformat": 4,
 "nbformat_minor": 5
}
