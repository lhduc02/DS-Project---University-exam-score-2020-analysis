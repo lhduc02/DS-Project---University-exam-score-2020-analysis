{
 "cells": [
  {
   "cell_type": "code",
   "execution_count": 15,
   "id": "96321b8e",
   "metadata": {},
   "outputs": [],
   "source": [
    "from pyspark.sql import SparkSession\n",
    "from pyspark.sql.functions import udf, split\n",
    "from pyspark.sql.types import StringType, IntegerType, FloatType\n",
    "import html\n",
    "\n",
    "# Khởi tạo SparkSession\n",
    "spark = SparkSession.builder \\\n",
    "    .appName(\"Process Data\") \\\n",
    "    .getOrCreate()"
   ]
  },
  {
   "cell_type": "code",
   "execution_count": 16,
   "id": "f3614822",
   "metadata": {},
   "outputs": [],
   "source": [
    "# Định nghĩa hàm để xử lý các ký tự Unicode\n",
    "def replace_unicode(text):\n",
    "    chars = []\n",
    "    codes = []\n",
    "    with open(\"D:\\\\.Repo\\\\Incomplete Project\\\\Thesis Project --- Spark\\\\unicode.txt\", mode=\"r\", encoding=\"utf8\") as file:\n",
    "        unicode_table = file.read().split(\"\\n\")\n",
    "        for i in unicode_table:\n",
    "            i = i.split()\n",
    "            chars.append(i[0])\n",
    "            codes.append(i[1])\n",
    "\n",
    "    for i in range(len(chars)):\n",
    "        text = text.replace(codes[i], chars[i])\n",
    "\n",
    "    return text[:-2]\n",
    "\n",
    "\n",
    "# Định nghĩa hàm để chuyển đổi HTML entities thành ký tự Unicode\n",
    "def unescape_html(text):\n",
    "    return html.unescape(text)\n",
    "\n",
    "\n",
    "# Định nghĩa hàm để chuyển đổi định dạng ngày sinh\n",
    "def process_dob(dob):\n",
    "    return dob[:-2].split(\"/\")\n",
    "\n",
    "\n",
    "# Định nghĩa hàm để xử lý điểm thi và chuyển đổi về lower case\n",
    "def process_score(score):\n",
    "    score = score[:-2]\n",
    "    score = replace_unicode(score)\n",
    "    for i in range(len(score)):\n",
    "        if score[i:i+2] == \"&#\":\n",
    "            score = score[:i] + html.unescape(score[i:i+5]) + score[i+6:]\n",
    "    score = score.replace(\":\", \"\")\n",
    "    score = score.replace(\"khxh \", \"khxh   \")\n",
    "    score = score.replace(\"khtn \", \"khtn   \")\n",
    "    score_list = score.split(\"   \")\n",
    "    data = []\n",
    "    for subject in [\"Toán\", \"Ngữ văn\", \"KHXH\", \"KHTN\", \"Lịch sử\", \"Địa lí\", \"GDCD\", \"sinh học\", \"vật lí\", \"hoa\", \"N1\"]:\n",
    "        if subject in score_list:\n",
    "            data.append(str(float(score_list[score_list.index(subject) + 1])))  # Chuyen 7.00 -> 7.0\n",
    "        else:\n",
    "            data.append(\"NULL\")\n",
    "    return \" \".join(data)\n",
    "\n",
    "\n",
    "# Định nghĩa hàm để chuyển đổi các trường dữ liệu về định dạng số\n",
    "def to_float(value):\n",
    "    if value.strip() == \"\":\n",
    "        return None\n",
    "    return float(value)\n",
    "\n",
    "# Normal\n",
    "def normal(txt):\n",
    "    return txt"
   ]
  },
  {
   "cell_type": "code",
   "execution_count": 17,
   "id": "13272157",
   "metadata": {},
   "outputs": [],
   "source": [
    "# Đọc dữ liệu từ file text và tạo DataFrame từ dữ liệu đó\n",
    "data_rdd = spark.sparkContext.textFile(\"D:\\\\.Repo\\\\Incomplete Project\\\\Thesis Project --- Spark\\\\raw_data.txt\")\n",
    "data_df = data_rdd.filter(lambda line: len(line.strip()) > 0) \\\n",
    "    .map(lambda line: line.strip()) \\\n",
    "    .filter(lambda line: line.startswith(\"b'<!DOCTYPE html>\")) \\\n",
    "    .map(lambda line: line.split(\"\\\\n\")) \\\n",
    "    .filter(lambda arr: len(arr) == 90) \\\n",
    "    .map(lambda arr: (arr[61].strip(), arr[64].strip(), arr[67].strip())) \\\n",
    "    .toDF([\"name\", \"dob\", \"score\"])"
   ]
  },
  {
   "cell_type": "code",
   "execution_count": 18,
   "id": "3916ee48",
   "metadata": {},
   "outputs": [],
   "source": [
    "# Áp dụng các hàm xử lý dữ liệu vào DataFrame\n",
    "replace_unicode_udf = udf(replace_unicode, StringType())\n",
    "unescape_html_udf = udf(unescape_html, StringType())\n",
    "process_dob_udf = udf(process_dob, StringType())\n",
    "process_score_udf = udf(process_score, StringType())\n",
    "to_float_udf = udf(to_float, FloatType())\n",
    "normal_udf = udf(normal, StringType())"
   ]
  },
  {
   "cell_type": "code",
   "execution_count": 19,
   "id": "b9521fea",
   "metadata": {},
   "outputs": [],
   "source": [
    "processed_df = data_df.withColumn(\"name\", replace_unicode_udf(\"name\")) \\\n",
    "    .withColumn(\"name\", unescape_html_udf(\"name\")) \\\n",
    "    .withColumn(\"score\", process_score_udf(\"score\")) \\\n",
    "    .withColumn(\"toan\", split(normal_udf(\"score\"), \" \")[0]) \\\n",
    "    .withColumn(\"ngu_van\", split(normal_udf(\"score\"), \" \")[1]) \\\n",
    "    .withColumn(\"khxh\", split(normal_udf(\"score\"), \" \")[2]) \\\n",
    "    .withColumn(\"khtn\", split(normal_udf(\"score\"), \" \")[3]) \\\n",
    "    .withColumn(\"lich_su\", split(normal_udf(\"score\"), \" \")[4]) \\\n",
    "    .withColumn(\"dia_ly\", split(normal_udf(\"score\"), \" \")[5]) \\\n",
    "    .withColumn(\"gdcd\", split(normal_udf(\"score\"), \" \")[6]) \\\n",
    "    .withColumn(\"sinh_hoc\", split(normal_udf(\"score\"), \" \")[7]) \\\n",
    "    .withColumn(\"vat_li\", split(normal_udf(\"score\"), \" \")[8]) \\\n",
    "    .withColumn(\"hoc_hoc\", split(normal_udf(\"score\"), \" \")[9]) \\\n",
    "    .withColumn(\"N1\", split(normal_udf(\"score\"), \" \")[10])\n",
    "\n",
    "processed_df = processed_df.drop('score')"
   ]
  },
  {
   "cell_type": "code",
   "execution_count": 20,
   "id": "da8ea388",
   "metadata": {},
   "outputs": [],
   "source": [
    "# Lưu pyspark dataframe dưới dạng .csv\n",
    "# processed_df.write.csv(\"test.csv\")"
   ]
  },
  {
   "cell_type": "code",
   "execution_count": null,
   "id": "83da9b78",
   "metadata": {},
   "outputs": [],
   "source": []
  }
 ],
 "metadata": {
  "kernelspec": {
   "display_name": "Python 3 (ipykernel)",
   "language": "python",
   "name": "python3"
  },
  "language_info": {
   "codemirror_mode": {
    "name": "ipython",
    "version": 3
   },
   "file_extension": ".py",
   "mimetype": "text/x-python",
   "name": "python",
   "nbconvert_exporter": "python",
   "pygments_lexer": "ipython3",
   "version": "3.10.6"
  }
 },
 "nbformat": 4,
 "nbformat_minor": 5
}
